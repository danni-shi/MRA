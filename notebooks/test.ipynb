{
 "cells": [
  {
   "cell_type": "code",
   "execution_count": 1,
   "outputs": [],
   "source": [
    "import random\n",
    "import numpy as np"
   ],
   "metadata": {
    "collapsed": false,
    "ExecuteTime": {
     "start_time": "2023-04-30T21:04:11.752966Z",
     "end_time": "2023-04-30T21:04:12.837291Z"
    }
   }
  },
  {
   "cell_type": "code",
   "execution_count": 2,
   "metadata": {
    "collapsed": true,
    "ExecuteTime": {
     "start_time": "2023-04-30T21:04:12.840345Z",
     "end_time": "2023-04-30T21:04:12.841825Z"
    }
   },
   "outputs": [],
   "source": [
    "# Function to find the minimum length\n",
    "# of the subarray whose sum is maximum\n",
    "def minimumSizeSubarray(arr, N):\n",
    "\n",
    "    # Stores the starting and the\n",
    "    # ending index of the resultant\n",
    "    # subarray\n",
    "    i, j = 0, N - 1\n",
    "\n",
    "    # Traverse the array until a\n",
    "    # non-zero element is encountered\n",
    "    while (i < N and arr[i] == 0):\n",
    "        i += 1\n",
    "\n",
    "    # If the array contains only of 0s\n",
    "    if (i == N):\n",
    "        return 1\n",
    "\n",
    "    # Traverse the array in reverse until\n",
    "    # a non-zero element is encountered\n",
    "    while (j >= 0 and arr[j] == 0):\n",
    "        j -= 1\n",
    "\n",
    "    # Return the resultant\n",
    "    # size of the subarray\n",
    "    return(j - i + 1)"
   ]
  },
  {
   "cell_type": "code",
   "execution_count": 3,
   "outputs": [],
   "source": [
    "def consecutive_zeros(array):\n",
    "    result = 0\n",
    "    streak = 0\n",
    "    for ele in array:\n",
    "        if ele == 0:\n",
    "            streak += 1\n",
    "        else:\n",
    "            streak = 0\n",
    "        result = max(result, streak)\n",
    "    return result"
   ],
   "metadata": {
    "collapsed": false,
    "ExecuteTime": {
     "start_time": "2023-04-30T21:24:51.755154Z",
     "end_time": "2023-04-30T21:24:51.762848Z"
    }
   }
  },
  {
   "cell_type": "code",
   "execution_count": null,
   "outputs": [],
   "source": [],
   "metadata": {
    "collapsed": false
   }
  },
  {
   "cell_type": "code",
   "execution_count": null,
   "outputs": [],
   "source": [
    "def smallest_lag_range(lag_counts):\n",
    "    if lag_counts.ndim > 1:\n",
    "        lag_counts = lag_counts.flatten()\n",
    "    extended_counts = np.append(lag_counts,lag_counts)\n",
    "    max_consecutive_zeros = consecutive_zeros(extended_counts)\n",
    "    return len(lag_counts) - max_consecutive_zeros"
   ],
   "metadata": {
    "collapsed": false
   }
  },
  {
   "cell_type": "code",
   "execution_count": 14,
   "outputs": [
    {
     "data": {
      "text/plain": "array([[0, 1, 2],\n       [3, 4, 5],\n       [6, 7, 8]])"
     },
     "execution_count": 14,
     "metadata": {},
     "output_type": "execute_result"
    }
   ],
   "source": [
    "x = np.arange(9).reshape(3,3)\n",
    "x[:,:None]"
   ],
   "metadata": {
    "collapsed": false,
    "ExecuteTime": {
     "start_time": "2023-05-01T17:38:29.088623Z",
     "end_time": "2023-05-01T17:38:29.092749Z"
    }
   }
  },
  {
   "cell_type": "code",
   "execution_count": 15,
   "outputs": [
    {
     "data": {
      "text/plain": "array([[0, 1, 2],\n       [3, 4, 5],\n       [6, 7, 8]])"
     },
     "execution_count": 15,
     "metadata": {},
     "output_type": "execute_result"
    }
   ],
   "source": [
    "from scipy import signal\n",
    "def fn_linear_corr_lag(x,y):\n",
    "ccf = signal.correlate(x,y,'full')"
   ],
   "metadata": {
    "collapsed": false,
    "ExecuteTime": {
     "start_time": "2023-05-01T17:38:33.131421Z",
     "end_time": "2023-05-01T17:38:33.144791Z"
    }
   }
  },
  {
   "cell_type": "code",
   "execution_count": null,
   "outputs": [],
   "source": [],
   "metadata": {
    "collapsed": false
   }
  }
 ],
 "metadata": {
  "kernelspec": {
   "display_name": "Python 3",
   "language": "python",
   "name": "python3"
  },
  "language_info": {
   "codemirror_mode": {
    "name": "ipython",
    "version": 2
   },
   "file_extension": ".py",
   "mimetype": "text/x-python",
   "name": "python",
   "nbconvert_exporter": "python",
   "pygments_lexer": "ipython2",
   "version": "2.7.6"
  }
 },
 "nbformat": 4,
 "nbformat_minor": 0
}
