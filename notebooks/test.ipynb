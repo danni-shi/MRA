{
 "cells": [
  {
   "cell_type": "code",
   "execution_count": 2,
   "outputs": [],
   "source": [
    "import random\n",
    "import numpy as np\n",
    "import matplotlib.pyplot as plt\n",
    "import sys\n",
    "sys.path.append('../src')"
   ],
   "metadata": {
    "collapsed": false,
    "ExecuteTime": {
     "start_time": "2023-05-21T17:45:40.470464Z",
     "end_time": "2023-05-21T17:45:40.476315Z"
    }
   }
  },
  {
   "cell_type": "code",
   "execution_count": 6,
   "outputs": [
    {
     "data": {
      "text/plain": "array([2, 1, 2])"
     },
     "execution_count": 6,
     "metadata": {},
     "output_type": "execute_result"
    }
   ],
   "source": [
    "x = np.arange(9).reshape(3,3)\n",
    "np.count_nonzero(x%2==0,axis = 1)"
   ],
   "metadata": {
    "collapsed": false,
    "ExecuteTime": {
     "start_time": "2023-05-21T17:46:04.668309Z",
     "end_time": "2023-05-21T17:46:04.671271Z"
    }
   }
  },
  {
   "cell_type": "code",
   "execution_count": 55,
   "outputs": [],
   "source": [
    "v = np.array([[0,1,2,2,1,1,0]]).T\n",
    "ones = np.ones((7,1))"
   ],
   "metadata": {
    "collapsed": false,
    "ExecuteTime": {
     "start_time": "2023-05-24T22:13:36.239194Z",
     "end_time": "2023-05-24T22:13:36.247093Z"
    }
   }
  },
  {
   "cell_type": "code",
   "execution_count": 58,
   "outputs": [],
   "source": [
    "mat = v @ ones.T - ones @ v.T"
   ],
   "metadata": {
    "collapsed": false,
    "ExecuteTime": {
     "start_time": "2023-05-24T22:14:02.987123Z",
     "end_time": "2023-05-24T22:14:02.991123Z"
    }
   }
  },
  {
   "cell_type": "code",
   "execution_count": 61,
   "outputs": [
    {
     "data": {
      "text/plain": "array([0, 1, 2, 2, 1, 1, 0])"
     },
     "execution_count": 61,
     "metadata": {},
     "output_type": "execute_result"
    }
   ],
   "source": [
    "v1=np.mean(mat,axis =1)\n",
    "(v1-np.min(v1)).astype(int)"
   ],
   "metadata": {
    "collapsed": false,
    "ExecuteTime": {
     "start_time": "2023-05-24T22:16:11.185883Z",
     "end_time": "2023-05-24T22:16:11.202219Z"
    }
   }
  },
  {
   "cell_type": "code",
   "execution_count": null,
   "outputs": [],
   "source": [],
   "metadata": {
    "collapsed": false
   }
  },
  {
   "cell_type": "code",
   "execution_count": 43,
   "outputs": [],
   "source": [
    "laggers = np.array([[0,1,-2,-1],\n",
    "                   [1,-2,0,-1],\n",
    "                    [-1,1,-1,0]])\n",
    "leaders_list_by_laggers= [[(i,lag) for i,lag in enumerate(row) if lag<0] for row in laggers]"
   ],
   "metadata": {
    "collapsed": false,
    "ExecuteTime": {
     "start_time": "2023-05-21T21:17:51.194095Z",
     "end_time": "2023-05-21T21:17:51.199243Z"
    }
   }
  },
  {
   "cell_type": "code",
   "execution_count": 44,
   "outputs": [
    {
     "data": {
      "text/plain": "[[(2, -2), (3, -1)], [(1, -2), (3, -1)], [(0, -1), (2, -1)]]"
     },
     "execution_count": 44,
     "metadata": {},
     "output_type": "execute_result"
    }
   ],
   "source": [
    "leaders_list_by_laggers"
   ],
   "metadata": {
    "collapsed": false,
    "ExecuteTime": {
     "start_time": "2023-05-21T21:17:51.721241Z",
     "end_time": "2023-05-21T21:17:51.726883Z"
    }
   }
  },
  {
   "cell_type": "code",
   "execution_count": 45,
   "outputs": [],
   "source": [
    "returns = np.random.uniform(size = 20).reshape(-1,4)"
   ],
   "metadata": {
    "collapsed": false,
    "ExecuteTime": {
     "start_time": "2023-05-21T21:17:52.760029Z",
     "end_time": "2023-05-21T21:17:52.768027Z"
    }
   }
  },
  {
   "cell_type": "code",
   "execution_count": 46,
   "outputs": [
    {
     "data": {
      "text/plain": "array([[7.96305937e-01, 7.88253618e-01, 2.67807546e-01, 5.33785741e-02],\n       [4.53358757e-01, 8.06206684e-04, 7.92641892e-01, 2.49970939e-01],\n       [8.71408768e-01, 5.80806744e-01, 2.77135284e-01, 3.91296159e-01],\n       [3.17242258e-02, 2.75597422e-01, 9.27174478e-01, 5.54565930e-01],\n       [3.86825345e-01, 8.32464191e-01, 3.53968945e-01, 8.54120958e-01]])"
     },
     "execution_count": 46,
     "metadata": {},
     "output_type": "execute_result"
    }
   ],
   "source": [
    "returns"
   ],
   "metadata": {
    "collapsed": false,
    "ExecuteTime": {
     "start_time": "2023-05-21T21:17:53.116339Z",
     "end_time": "2023-05-21T21:17:53.122504Z"
    }
   }
  },
  {
   "cell_type": "code",
   "execution_count": 47,
   "outputs": [
    {
     "data": {
      "text/plain": "1.064113482997761"
     },
     "execution_count": 47,
     "metadata": {},
     "output_type": "execute_result"
    }
   ],
   "source": [
    "returns[0,0]+returns[0,2]"
   ],
   "metadata": {
    "collapsed": false,
    "ExecuteTime": {
     "start_time": "2023-05-21T21:17:53.945632Z",
     "end_time": "2023-05-21T21:17:53.956040Z"
    }
   }
  },
  {
   "cell_type": "code",
   "execution_count": 48,
   "outputs": [],
   "source": [
    "t = 1\n",
    "signals = [np.sum([returns[t+p[1],p[0]] for p in l if (p[1]+t>=0)])for l in leaders_list_by_laggers]"
   ],
   "metadata": {
    "collapsed": false,
    "ExecuteTime": {
     "start_time": "2023-05-21T21:17:54.749055Z",
     "end_time": "2023-05-21T21:17:54.756393Z"
    }
   }
  },
  {
   "cell_type": "code",
   "execution_count": 49,
   "outputs": [
    {
     "data": {
      "text/plain": "[0.05337857413240221, 0.05337857413240221, 1.064113482997761]"
     },
     "execution_count": 49,
     "metadata": {},
     "output_type": "execute_result"
    }
   ],
   "source": [
    "signals"
   ],
   "metadata": {
    "collapsed": false,
    "ExecuteTime": {
     "start_time": "2023-05-21T21:17:55.195623Z",
     "end_time": "2023-05-21T21:17:55.199358Z"
    }
   }
  },
  {
   "cell_type": "code",
   "execution_count": 50,
   "outputs": [],
   "source": [
    "y = np.array([1,2,3,1,2])\n",
    "unique, freq  = np.unique(y,return_counts=True)"
   ],
   "metadata": {
    "collapsed": false,
    "ExecuteTime": {
     "start_time": "2023-05-21T21:40:41.547569Z",
     "end_time": "2023-05-21T21:40:41.554492Z"
    }
   }
  },
  {
   "cell_type": "code",
   "execution_count": 53,
   "outputs": [
    {
     "data": {
      "text/plain": "array([1, 1, 2])"
     },
     "execution_count": 53,
     "metadata": {},
     "output_type": "execute_result"
    }
   ],
   "source": [
    "abs(np.array([-1,1,2]))"
   ],
   "metadata": {
    "collapsed": false,
    "ExecuteTime": {
     "start_time": "2023-05-21T23:29:32.526408Z",
     "end_time": "2023-05-21T23:29:32.530955Z"
    }
   }
  },
  {
   "cell_type": "code",
   "execution_count": 38,
   "outputs": [
    {
     "name": "stdout",
     "output_type": "stream",
     "text": [
      "[[0 1 2]\n",
      " [3 4 5]\n",
      " [6 7 8]]\n",
      "[[0. 0. 0. 0. 0.]\n",
      " [0. 0. 1. 0. 2.]\n",
      " [0. 3. 4. 0. 5.]\n",
      " [0. 0. 0. 0. 0.]\n",
      " [0. 6. 7. 0. 8.]]\n"
     ]
    }
   ],
   "source": [
    "x = np.zeros((5, 5)) # 5x5 array filled with zeros\n",
    "y = np.arange(9).reshape(3,3)  # 3x3 array filled with ones\n",
    "z = classes==1\n",
    "indices = np.where(np.outer(z,z))\n",
    "index= list(zip(indices[0],indices[1]))\n",
    "# assign y to a subarray of x based on logical statement in z\n",
    "x[indices[0],indices[1]] = y.flatten()\n",
    "print(y)\n",
    "# print the result\n",
    "print(x)"
   ],
   "metadata": {
    "collapsed": false,
    "ExecuteTime": {
     "start_time": "2023-05-12T16:53:20.229565Z",
     "end_time": "2023-05-12T16:53:20.236783Z"
    }
   }
  },
  {
   "cell_type": "code",
   "execution_count": 41,
   "outputs": [],
   "source": [
    "import pickle\n",
    "round = 1\n",
    "with open(f'../results/PnL/{round}.pkl', 'rb') as f:\n",
    "    PnL = pickle.load(f)"
   ],
   "metadata": {
    "collapsed": false,
    "ExecuteTime": {
     "start_time": "2023-05-13T17:48:08.724426Z",
     "end_time": "2023-05-13T17:48:08.738465Z"
    }
   }
  },
  {
   "cell_type": "code",
   "execution_count": 45,
   "outputs": [
    {
     "name": "stdout",
     "output_type": "stream",
     "text": [
      "K=2\n",
      "dict_keys(['sigma=0.1', 'sigma=0.6', 'sigma=1.1', 'sigma=1.6'])\n"
     ]
    }
   ],
   "source": [
    "for key, value in PnL.items():\n",
    "    print(key)\n",
    "    print(value.keys())"
   ],
   "metadata": {
    "collapsed": false,
    "ExecuteTime": {
     "start_time": "2023-05-13T17:49:13.617811Z",
     "end_time": "2023-05-13T17:49:13.626735Z"
    }
   }
  },
  {
   "cell_type": "code",
   "execution_count": 54,
   "outputs": [
    {
     "data": {
      "text/plain": "array([0.])"
     },
     "execution_count": 54,
     "metadata": {},
     "output_type": "execute_result"
    }
   ],
   "source": [
    "\n",
    "np.zeros(1)"
   ],
   "metadata": {
    "collapsed": false,
    "ExecuteTime": {
     "start_time": "2023-05-13T18:09:17.377897Z",
     "end_time": "2023-05-13T18:09:17.873535Z"
    }
   }
  },
  {
   "cell_type": "code",
   "execution_count": 53,
   "outputs": [
    {
     "data": {
      "text/plain": "array([ 0.,  1.,  3.,  6., 10.])"
     },
     "execution_count": 53,
     "metadata": {},
     "output_type": "execute_result"
    }
   ],
   "source": [
    "np.append(np.zeros(1),np.cumsum(np.arange(1,5)))"
   ],
   "metadata": {
    "collapsed": false,
    "ExecuteTime": {
     "start_time": "2023-05-13T18:09:04.455357Z",
     "end_time": "2023-05-13T18:09:04.459977Z"
    }
   }
  },
  {
   "cell_type": "code",
   "execution_count": 74,
   "outputs": [
    {
     "data": {
      "text/plain": "<AxesSubplot:>"
     },
     "execution_count": 74,
     "metadata": {},
     "output_type": "execute_result"
    },
    {
     "data": {
      "text/plain": "<Figure size 432x288 with 2 Axes>",
      "image/png": "[encoded data removed]"
     },
     "metadata": {
      "needs_background": "light"
     },
     "output_type": "display_data"
    }
   ],
   "source": [
    "import seaborn as sns\n",
    "sns.heatmap(accuracy, annot=True, xticklabels=range(2,6), yticklabels=range(30,34))"
   ],
   "metadata": {
    "collapsed": false,
    "ExecuteTime": {
     "start_time": "2023-05-07T16:58:07.463005Z",
     "end_time": "2023-05-07T16:58:07.617797Z"
    }
   }
  },
  {
   "cell_type": "code",
   "execution_count": 48,
   "outputs": [],
   "source": [],
   "metadata": {
    "collapsed": false,
    "ExecuteTime": {
     "start_time": "2023-05-07T16:36:26.783484Z",
     "end_time": "2023-05-07T16:36:26.794922Z"
    }
   }
  },
  {
   "cell_type": "code",
   "execution_count": 49,
   "outputs": [
    {
     "data": {
      "text/plain": "0.7"
     },
     "execution_count": 49,
     "metadata": {},
     "output_type": "execute_result"
    }
   ],
   "source": [],
   "metadata": {
    "collapsed": false,
    "ExecuteTime": {
     "start_time": "2023-05-07T16:36:27.252726Z",
     "end_time": "2023-05-07T16:36:27.290061Z"
    }
   }
  },
  {
   "cell_type": "code",
   "execution_count": 59,
   "outputs": [
    {
     "name": "stdout",
     "output_type": "stream",
     "text": [
      "{'a': {'x': [0.0, 1.0, 2.0], 'y': [2.0, 3.0, 4.0]}, 'b': {'x': [3.0, 4.0, 5.0], 'y': [array([2., 3.]), array([2., 3.])]}}\n"
     ]
    }
   ],
   "source": [
    "# define n nested dictionaries with the same structure\n",
    "dict1 = {'a': {'x': np.arange(3), 'y': [2,3,4]},\n",
    "         'b': {'x': [3,4,5], 'y': [np.array([1,2]),np.array([1,2])]}}\n",
    "dict2 = {'a': {'x': np.arange(3), 'y': [2,3,4]},\n",
    "         'b': {'x': [3,4,5], 'y': [np.array([2,3]),np.array([3,4])]}}\n",
    "dict3 = {'a': {'x': np.arange(3), 'y': [2,3,4]},\n",
    "         'b': {'x': [3,4,5], 'y': [np.array([3,4]),np.array([2,3])]}}\n",
    "\n",
    "# combine the n dictionaries into a list of dictionaries\n",
    "dicts = [dict1, dict2, dict3]\n",
    "\n",
    "def mean_dict(dicts):\n",
    "    if isinstance(dicts[0], dict):\n",
    "        # get the keys of the first dictionary\n",
    "        keys = dicts[0].keys()\n",
    "        # use a dict comprehension to create a new dictionary\n",
    "        return {k: mean_dict([d[k] for d in dicts]) for k in keys}\n",
    "    else:\n",
    "        return [sum(x)/len(x) for x in zip(*dicts)]\n",
    "\n",
    "# calculate the mean of the nested dictionary\n",
    "mean_dict = mean_dict(dicts)\n",
    "\n",
    "# print the mean dictionary\n",
    "print(mean_dict)"
   ],
   "metadata": {
    "collapsed": false,
    "ExecuteTime": {
     "start_time": "2023-05-05T17:48:47.593470Z",
     "end_time": "2023-05-05T17:48:47.605684Z"
    }
   }
  },
  {
   "cell_type": "code",
   "execution_count": 54,
   "outputs": [
    {
     "data": {
      "text/plain": "dict_keys(['a', 'b'])"
     },
     "execution_count": 54,
     "metadata": {},
     "output_type": "execute_result"
    }
   ],
   "source": [
    "dicts[0].keys()"
   ],
   "metadata": {
    "collapsed": false,
    "ExecuteTime": {
     "start_time": "2023-05-05T17:42:29.401820Z",
     "end_time": "2023-05-05T17:42:29.408712Z"
    }
   }
  },
  {
   "cell_type": "code",
   "execution_count": 58,
   "outputs": [
    {
     "data": {
      "text/plain": "[array([3.33333333, 4.33333333]), array([3.33333333, 4.33333333])]"
     },
     "execution_count": 58,
     "metadata": {},
     "output_type": "execute_result"
    }
   ],
   "source": [
    "l1 = [np.array([1,2]),np.array([1,2])]\n",
    "l2 = [np.array([2,3]),np.array([3,4])]\n",
    "l3 = [np.array([3,4]),np.array([2,3])]\n",
    "[sum(x)/len(x) for x in zip(*[l1,l2,l3])]\n"
   ],
   "metadata": {
    "collapsed": false,
    "ExecuteTime": {
     "start_time": "2023-05-05T17:46:44.125205Z",
     "end_time": "2023-05-05T17:46:44.130554Z"
    }
   }
  },
  {
   "cell_type": "code",
   "execution_count": 2,
   "metadata": {
    "collapsed": true,
    "ExecuteTime": {
     "start_time": "2023-04-30T21:04:12.840345Z",
     "end_time": "2023-04-30T21:04:12.841825Z"
    }
   },
   "outputs": [],
   "source": [
    "# Function to find the minimum length\n",
    "# of the subarray whose sum is maximum\n",
    "def minimumSizeSubarray(arr, N):\n",
    "\n",
    "    # Stores the starting and the\n",
    "    # ending index of the resultant\n",
    "    # subarray\n",
    "    i, j = 0, N - 1\n",
    "\n",
    "    # Traverse the array until a\n",
    "    # non-zero element is encountered\n",
    "    while (i < N and arr[i] == 0):\n",
    "        i += 1\n",
    "\n",
    "    # If the array contains only of 0s\n",
    "    if (i == N):\n",
    "        return 1\n",
    "\n",
    "    # Traverse the array in reverse until\n",
    "    # a non-zero element is encountered\n",
    "    while (j >= 0 and arr[j] == 0):\n",
    "        j -= 1\n",
    "\n",
    "    # Return the resultant\n",
    "    # size of the subarray\n",
    "    return(j - i + 1)"
   ]
  },
  {
   "cell_type": "code",
   "execution_count": 3,
   "outputs": [],
   "source": [
    "def consecutive_zeros(array):\n",
    "    result = 0\n",
    "    streak = 0\n",
    "    for ele in array:\n",
    "        if ele == 0:\n",
    "            streak += 1\n",
    "        else:\n",
    "            streak = 0\n",
    "        result = max(result, streak)\n",
    "    return result"
   ],
   "metadata": {
    "collapsed": false,
    "ExecuteTime": {
     "start_time": "2023-04-30T21:24:51.755154Z",
     "end_time": "2023-04-30T21:24:51.762848Z"
    }
   }
  },
  {
   "cell_type": "code",
   "execution_count": null,
   "outputs": [],
   "source": [],
   "metadata": {
    "collapsed": false
   }
  },
  {
   "cell_type": "code",
   "execution_count": null,
   "outputs": [],
   "source": [
    "def smallest_lag_range(lag_counts):\n",
    "    if lag_counts.ndim > 1:\n",
    "        lag_counts = lag_counts.flatten()\n",
    "    extended_counts = np.append(lag_counts,lag_counts)\n",
    "    max_consecutive_zeros = consecutive_zeros(extended_counts)\n",
    "    return len(lag_counts) - max_consecutive_zeros"
   ],
   "metadata": {
    "collapsed": false
   }
  },
  {
   "cell_type": "code",
   "execution_count": 14,
   "outputs": [
    {
     "data": {
      "text/plain": "array([[0, 1, 2],\n       [3, 4, 5],\n       [6, 7, 8]])"
     },
     "execution_count": 14,
     "metadata": {},
     "output_type": "execute_result"
    }
   ],
   "source": [
    "x = np.arange(9).reshape(3,3)\n",
    "x[:,:None]"
   ],
   "metadata": {
    "collapsed": false,
    "ExecuteTime": {
     "start_time": "2023-05-01T17:38:29.088623Z",
     "end_time": "2023-05-01T17:38:29.092749Z"
    }
   }
  },
  {
   "cell_type": "code",
   "execution_count": 15,
   "outputs": [
    {
     "data": {
      "text/plain": "array([[0, 1, 2],\n       [3, 4, 5],\n       [6, 7, 8]])"
     },
     "execution_count": 15,
     "metadata": {},
     "output_type": "execute_result"
    }
   ],
   "source": [
    "from scipy import signal\n",
    "def fn_linear_corr_lag(x,y):\n",
    "ccf = signal.correlate(x,y,'full')"
   ],
   "metadata": {
    "collapsed": false,
    "ExecuteTime": {
     "start_time": "2023-05-01T17:38:33.131421Z",
     "end_time": "2023-05-01T17:38:33.144791Z"
    }
   }
  },
  {
   "cell_type": "code",
   "execution_count": null,
   "outputs": [],
   "source": [],
   "metadata": {
    "collapsed": false
   }
  }
 ],
 "metadata": {
  "kernelspec": {
   "display_name": "Python 3",
   "language": "python",
   "name": "python3"
  },
  "language_info": {
   "codemirror_mode": {
    "name": "ipython",
    "version": 2
   },
   "file_extension": ".py",
   "mimetype": "text/x-python",
   "name": "python",
   "nbconvert_exporter": "python",
   "pygments_lexer": "ipython2",
   "version": "2.7.6"
  }
 },
 "nbformat": 4,
 "nbformat_minor": 0
}
