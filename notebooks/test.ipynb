{
 "cells": [
  {
   "cell_type": "code",
   "execution_count": 4,
   "outputs": [],
   "source": [
    "import random\n",
    "import numpy as np\n",
    "import matplotlib.pyplot as plt"
   ],
   "metadata": {
    "collapsed": false,
    "ExecuteTime": {
     "start_time": "2023-05-05T14:23:52.756873Z",
     "end_time": "2023-05-05T14:23:54.314468Z"
    }
   }
  },
  {
   "cell_type": "code",
   "execution_count": 27,
   "outputs": [],
   "source": [
    "values = list(np.random.randint(0, 100, size=100))\n",
    "percentiles = np.percentile(values, [range(0,101,5)])"
   ],
   "metadata": {
    "collapsed": false,
    "ExecuteTime": {
     "start_time": "2023-05-05T14:28:39.827049Z",
     "end_time": "2023-05-05T14:28:39.831825Z"
    }
   }
  },
  {
   "cell_type": "code",
   "execution_count": 28,
   "outputs": [
    {
     "data": {
      "text/plain": "[0,\n 5,\n 10,\n 15,\n 20,\n 25,\n 30,\n 35,\n 40,\n 45,\n 50,\n 55,\n 60,\n 65,\n 70,\n 75,\n 80,\n 85,\n 90,\n 95,\n 100]"
     },
     "execution_count": 28,
     "metadata": {},
     "output_type": "execute_result"
    }
   ],
   "source": [
    "list(range(0,101,5))"
   ],
   "metadata": {
    "collapsed": false,
    "ExecuteTime": {
     "start_time": "2023-05-05T14:28:40.163868Z",
     "end_time": "2023-05-05T14:28:40.168004Z"
    }
   }
  },
  {
   "cell_type": "code",
   "execution_count": 59,
   "outputs": [
    {
     "name": "stdout",
     "output_type": "stream",
     "text": [
      "{'a': {'x': [0.0, 1.0, 2.0], 'y': [2.0, 3.0, 4.0]}, 'b': {'x': [3.0, 4.0, 5.0], 'y': [array([2., 3.]), array([2., 3.])]}}\n"
     ]
    }
   ],
   "source": [
    "# define n nested dictionaries with the same structure\n",
    "dict1 = {'a': {'x': np.arange(3), 'y': [2,3,4]},\n",
    "         'b': {'x': [3,4,5], 'y': [np.array([1,2]),np.array([1,2])]}}\n",
    "dict2 = {'a': {'x': np.arange(3), 'y': [2,3,4]},\n",
    "         'b': {'x': [3,4,5], 'y': [np.array([2,3]),np.array([3,4])]}}\n",
    "dict3 = {'a': {'x': np.arange(3), 'y': [2,3,4]},\n",
    "         'b': {'x': [3,4,5], 'y': [np.array([3,4]),np.array([2,3])]}}\n",
    "\n",
    "# combine the n dictionaries into a list of dictionaries\n",
    "dicts = [dict1, dict2, dict3]\n",
    "\n",
    "def mean_dict(dicts):\n",
    "    if isinstance(dicts[0], dict):\n",
    "        # get the keys of the first dictionary\n",
    "        keys = dicts[0].keys()\n",
    "        # use a dict comprehension to create a new dictionary\n",
    "        return {k: mean_dict([d[k] for d in dicts]) for k in keys}\n",
    "    else:\n",
    "        return [sum(x)/len(x) for x in zip(*dicts)]\n",
    "\n",
    "# calculate the mean of the nested dictionary\n",
    "mean_dict = mean_dict(dicts)\n",
    "\n",
    "# print the mean dictionary\n",
    "print(mean_dict)"
   ],
   "metadata": {
    "collapsed": false,
    "ExecuteTime": {
     "start_time": "2023-05-05T17:48:47.593470Z",
     "end_time": "2023-05-05T17:48:47.605684Z"
    }
   }
  },
  {
   "cell_type": "code",
   "execution_count": 54,
   "outputs": [
    {
     "data": {
      "text/plain": "dict_keys(['a', 'b'])"
     },
     "execution_count": 54,
     "metadata": {},
     "output_type": "execute_result"
    }
   ],
   "source": [
    "dicts[0].keys()"
   ],
   "metadata": {
    "collapsed": false,
    "ExecuteTime": {
     "start_time": "2023-05-05T17:42:29.401820Z",
     "end_time": "2023-05-05T17:42:29.408712Z"
    }
   }
  },
  {
   "cell_type": "code",
   "execution_count": 58,
   "outputs": [
    {
     "data": {
      "text/plain": "[array([3.33333333, 4.33333333]), array([3.33333333, 4.33333333])]"
     },
     "execution_count": 58,
     "metadata": {},
     "output_type": "execute_result"
    }
   ],
   "source": [
    "l1 = [np.array([1,2]),np.array([1,2])]\n",
    "l2 = [np.array([2,3]),np.array([3,4])]\n",
    "l3 = [np.array([3,4]),np.array([2,3])]\n",
    "[sum(x)/len(x) for x in zip(*[l1,l2,l3])]\n"
   ],
   "metadata": {
    "collapsed": false,
    "ExecuteTime": {
     "start_time": "2023-05-05T17:46:44.125205Z",
     "end_time": "2023-05-05T17:46:44.130554Z"
    }
   }
  },
  {
   "cell_type": "code",
   "execution_count": 2,
   "metadata": {
    "collapsed": true,
    "ExecuteTime": {
     "start_time": "2023-04-30T21:04:12.840345Z",
     "end_time": "2023-04-30T21:04:12.841825Z"
    }
   },
   "outputs": [],
   "source": [
    "# Function to find the minimum length\n",
    "# of the subarray whose sum is maximum\n",
    "def minimumSizeSubarray(arr, N):\n",
    "\n",
    "    # Stores the starting and the\n",
    "    # ending index of the resultant\n",
    "    # subarray\n",
    "    i, j = 0, N - 1\n",
    "\n",
    "    # Traverse the array until a\n",
    "    # non-zero element is encountered\n",
    "    while (i < N and arr[i] == 0):\n",
    "        i += 1\n",
    "\n",
    "    # If the array contains only of 0s\n",
    "    if (i == N):\n",
    "        return 1\n",
    "\n",
    "    # Traverse the array in reverse until\n",
    "    # a non-zero element is encountered\n",
    "    while (j >= 0 and arr[j] == 0):\n",
    "        j -= 1\n",
    "\n",
    "    # Return the resultant\n",
    "    # size of the subarray\n",
    "    return(j - i + 1)"
   ]
  },
  {
   "cell_type": "code",
   "execution_count": 3,
   "outputs": [],
   "source": [
    "def consecutive_zeros(array):\n",
    "    result = 0\n",
    "    streak = 0\n",
    "    for ele in array:\n",
    "        if ele == 0:\n",
    "            streak += 1\n",
    "        else:\n",
    "            streak = 0\n",
    "        result = max(result, streak)\n",
    "    return result"
   ],
   "metadata": {
    "collapsed": false,
    "ExecuteTime": {
     "start_time": "2023-04-30T21:24:51.755154Z",
     "end_time": "2023-04-30T21:24:51.762848Z"
    }
   }
  },
  {
   "cell_type": "code",
   "execution_count": null,
   "outputs": [],
   "source": [],
   "metadata": {
    "collapsed": false
   }
  },
  {
   "cell_type": "code",
   "execution_count": null,
   "outputs": [],
   "source": [
    "def smallest_lag_range(lag_counts):\n",
    "    if lag_counts.ndim > 1:\n",
    "        lag_counts = lag_counts.flatten()\n",
    "    extended_counts = np.append(lag_counts,lag_counts)\n",
    "    max_consecutive_zeros = consecutive_zeros(extended_counts)\n",
    "    return len(lag_counts) - max_consecutive_zeros"
   ],
   "metadata": {
    "collapsed": false
   }
  },
  {
   "cell_type": "code",
   "execution_count": 14,
   "outputs": [
    {
     "data": {
      "text/plain": "array([[0, 1, 2],\n       [3, 4, 5],\n       [6, 7, 8]])"
     },
     "execution_count": 14,
     "metadata": {},
     "output_type": "execute_result"
    }
   ],
   "source": [
    "x = np.arange(9).reshape(3,3)\n",
    "x[:,:None]"
   ],
   "metadata": {
    "collapsed": false,
    "ExecuteTime": {
     "start_time": "2023-05-01T17:38:29.088623Z",
     "end_time": "2023-05-01T17:38:29.092749Z"
    }
   }
  },
  {
   "cell_type": "code",
   "execution_count": 15,
   "outputs": [
    {
     "data": {
      "text/plain": "array([[0, 1, 2],\n       [3, 4, 5],\n       [6, 7, 8]])"
     },
     "execution_count": 15,
     "metadata": {},
     "output_type": "execute_result"
    }
   ],
   "source": [
    "from scipy import signal\n",
    "def fn_linear_corr_lag(x,y):\n",
    "ccf = signal.correlate(x,y,'full')"
   ],
   "metadata": {
    "collapsed": false,
    "ExecuteTime": {
     "start_time": "2023-05-01T17:38:33.131421Z",
     "end_time": "2023-05-01T17:38:33.144791Z"
    }
   }
  },
  {
   "cell_type": "code",
   "execution_count": null,
   "outputs": [],
   "source": [],
   "metadata": {
    "collapsed": false
   }
  }
 ],
 "metadata": {
  "kernelspec": {
   "display_name": "Python 3",
   "language": "python",
   "name": "python3"
  },
  "language_info": {
   "codemirror_mode": {
    "name": "ipython",
    "version": 2
   },
   "file_extension": ".py",
   "mimetype": "text/x-python",
   "name": "python",
   "nbconvert_exporter": "python",
   "pygments_lexer": "ipython2",
   "version": "2.7.6"
  }
 },
 "nbformat": 4,
 "nbformat_minor": 0
}
